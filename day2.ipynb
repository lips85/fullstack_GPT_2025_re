{
  "cells": [
    {
      "cell_type": "markdown",
      "metadata": {},
      "source": [
        "영화 이름을 가지고 감독, 주요 출연진, 예산, 흥행 수익, 영화의 장르, 간단한 시놉시스 등 영화에 대한 정보로 답장하는 체인을 만드세요.\n",
        "\n",
        "LLM은 항상 동일한 형식을 사용하여 응답해야 하며, 이를 위해서는 원하는 출력의 예시를 LLM에 제공해야 합니다.\n",
        "\n",
        "예제를 제공하려면 FewShotPromptTemplate을 사용하라.\n"
      ]
    },
    {
      "cell_type": "code",
      "execution_count": 1,
      "metadata": {},
      "outputs": [
        {
          "name": "stdout",
          "output_type": "stream",
          "text": [
            "✅ 라이브러리 import 완료!\n"
          ]
        }
      ],
      "source": [
        "# 필요한 라이브러리 import\n",
        "import os\n",
        "from langchain_openai import ChatOpenAI\n",
        "from langchain_core.prompts import FewShotPromptTemplate, PromptTemplate\n",
        "from langchain_core.output_parsers import StrOutputParser\n",
        "from langchain_core.callbacks import StreamingStdOutCallbackHandler\n",
        "\n",
        "print(\"✅ 라이브러리 import 완료!\")"
      ]
    },
    {
      "cell_type": "code",
      "execution_count": 2,
      "metadata": {},
      "outputs": [
        {
          "name": "stdout",
          "output_type": "stream",
          "text": [
            "✅ FewShotPromptTemplate 완료!\n"
          ]
        }
      ],
      "source": [
        "# 간단한 FewShotPromptTemplate 구성\n",
        "\n",
        "# 예시 데이터 (1개만)\n",
        "examples = [\n",
        "    {\n",
        "        \"movie\": \"인셉션\",\n",
        "        \"director\": \"크리스토퍼 놀란\",\n",
        "        \"cast\": \"레오나르도 디카프리오, 마리옹 코티야르\",\n",
        "        \"budget\": \"1억 6천만 달러\",\n",
        "        \"box_office\": \"8억 3천만 달러\",\n",
        "        \"genre\": \"SF, 액션\",\n",
        "        \"synopsis\": \"꿈 속에서 정보를 훔치는 도둑의 이야기\",\n",
        "    }\n",
        "]\n",
        "\n",
        "# 예시 템플릿\n",
        "example_prompt = PromptTemplate(\n",
        "    input_variables=[\"movie\", \"director\", \"cast\", \"budget\", \"box_office\", \"genre\", \"synopsis\"],\n",
        "    template=\"영화: {movie}\\n감독: {director}\\n출연진: {cast}\\n예산: {budget}\\n수익: {box_office}\\n장르: {genre}\\n줄거리: {synopsis}\\n\",\n",
        ")\n",
        "\n",
        "# FewShotPromptTemplate\n",
        "few_shot_prompt = FewShotPromptTemplate(\n",
        "    examples=examples,\n",
        "    example_prompt=example_prompt,\n",
        "    prefix=\"영화 정보를 다음 형식으로 제공하세요:\",\n",
        "    suffix=\"영화: {input}\\n감독:\\n출연진:\\n예산:\\n수익:\\n장르:\\n줄거리:\",\n",
        "    input_variables=[\"input\"],\n",
        ")\n",
        "\n",
        "print(\"✅ FewShotPromptTemplate 완료!\")"
      ]
    },
    {
      "cell_type": "code",
      "execution_count": 3,
      "metadata": {},
      "outputs": [
        {
          "name": "stdout",
          "output_type": "stream",
          "text": [
            "✅ 영화 정보 체인 완료!\n"
          ]
        }
      ],
      "source": [
        "# OpenAI 모델 설정 (gpt-5-nano 사용)\n",
        "model = ChatOpenAI(\n",
        "    model=\"gpt-5-nano\",\n",
        "    temperature=0.1,\n",
        "    streaming=True,\n",
        "    callbacks=[\n",
        "        StreamingStdOutCallbackHandler(),\n",
        "    ],\n",
        ")\n",
        "output_parser = StrOutputParser()\n",
        "\n",
        "# 체인\n",
        "movie_chain = few_shot_prompt | model | output_parser\n",
        "\n",
        "print(\"✅ 영화 정보 체인 완료!\")"
      ]
    },
    {
      "cell_type": "code",
      "execution_count": null,
      "metadata": {},
      "outputs": [
        {
          "name": "stdout",
          "output_type": "stream",
          "text": [
            "영화: 기생충\n",
            "감독: 봉준호\n",
            "출연진: 송강호, 이선균, 조여정, 최우식, 박소담\n",
            "예산: 약 1,100만 달러\n",
            "수익: 약 2억 6천만 달러\n",
            "장르: 드라마, 스릴러, 블랙코미디, 풍자\n",
            "줄거리: 가난한 가족이 부유한 가족의 집에 침투하며 점차 그들의 삶에 스며들고 벌어지는 계층 간 갈등과 풍자를 다룬 이야기영화: 기생충\n",
            "감독: 봉준호\n",
            "출연진: 송강호, 이선균, 조여정, 최우식, 박소담\n",
            "예산: 약 1,100만 달러\n",
            "수익: 약 2억 6천만 달러\n",
            "장르: 드라마, 스릴러, 블랙코미디, 풍자\n",
            "줄거리: 가난한 가족이 부유한 가족의 집에 침투하며 점차 그들의 삶에 스며들고 벌어지는 계층 간 갈등과 풍자를 다룬 이야기\n"
          ]
        }
      ],
      "source": [
        "# 간단한 테스트\n",
        "result = movie_chain.invoke({\"input\": \"기생충\"})"
      ]
    }
  ],
  "metadata": {
    "language_info": {
      "name": "python"
    }
  },
  "nbformat": 4,
  "nbformat_minor": 2
}
