{
 "cells": [
  {
   "cell_type": "markdown",
   "id": "dc4a5f77",
   "metadata": {},
   "source": [
    "프로그래밍 언어에 대한 시를 쓰는 데 특화된 체인과 시를 설명하는 데 특화된 체인을 만드세요.\n",
    "\n",
    "LCEL을 사용해 두 체인을 서로 연결합니다.\n",
    "\n",
    "최종 체인은 프로그래밍 언어의 이름을 받고 시와 그 설명으로 응답해야 합니다.\n",
    "\n",
    "모델로는 \"gpt-3.5-turbo\"를 사용하고 프롬프트에는 ChatPromptTemplate을 사용하세요.\n"
   ]
  },
  {
   "cell_type": "code",
   "execution_count": 6,
   "id": "9fd9d0d5",
   "metadata": {},
   "outputs": [
    {
     "name": "stdout",
     "output_type": "stream",
     "text": [
      "✅ 라이브러리 import 완료!\n"
     ]
    }
   ],
   "source": [
    "# 필요한 라이브러리 import\n",
    "\n",
    "import os\n",
    "from langchain_openai import ChatOpenAI\n",
    "from langchain_core.prompts import ChatPromptTemplate\n",
    "from langchain_core.callbacks import StreamingStdOutCallbackHandler\n",
    "from langchain_core.output_parsers import StrOutputParser\n",
    "from langchain_core.runnables import RunnablePassthrough\n",
    "\n",
    "# OpenAI API 키 설정 (실제 사용시 환경변수로 설정하세요)\n",
    "# os.environ[\"OPENAI_API_KEY\"] = \"your-api-key-here\"\n",
    "\n",
    "print(\"✅ 라이브러리 import 완료!\")"
   ]
  },
  {
   "cell_type": "code",
   "execution_count": 7,
   "id": "ad866ddf",
   "metadata": {},
   "outputs": [],
   "source": [
    "# 1. 프로그래밍 언어에 대한 시를 생성하는 체인\n",
    "\n",
    "# 시 생성용 프롬프트 템플릿\n",
    "poetry_prompt = ChatPromptTemplate.from_template(\n",
    "    \"\"\"\n",
    "당신은 창의적인 시인입니다. 주어진 프로그래밍 언어에 대해 아름답고 감성적인 시를 써주세요.\n",
    "\n",
    "프로그래밍 언어: {language}\n",
    "\n",
    "요구사항:\n",
    "- 4-6줄의 짧은 시로 작성\n",
    "- 프로그래밍 언어의 특징이나 철학을 시적으로 표현\n",
    "- 감성적이고 아름다운 언어 사용\n",
    "- 한국어로 작성\n",
    "- 맨 마지막엔 두줄 띄기\n",
    "- 제목은 프로그래밍 언어의 이름을 따서 작성\n",
    "\n",
    "Return:\n",
    "\n",
    "시:\n",
    "\n",
    "\"\"\"\n",
    ")\n",
    "\n",
    "# OpenAI 모델 설정 (gpt-5-nano 사용)\n",
    "model = ChatOpenAI(\n",
    "    model=\"gpt-5-nano\",\n",
    "    temperature=0.1,\n",
    "    streaming=True,\n",
    "    callbacks=[\n",
    "        StreamingStdOutCallbackHandler(),\n",
    "    ],\n",
    ")\n",
    "\n",
    "# 체인 구성 (LCEL 사용)\n",
    "poetry_chain = poetry_prompt | model"
   ]
  },
  {
   "cell_type": "code",
   "execution_count": 8,
   "id": "0e2cc3fe",
   "metadata": {},
   "outputs": [],
   "source": [
    "# 2. 시에 대한 설명을 생성하는 체인\n",
    "\n",
    "# 시 설명용 프롬프트 템플릿\n",
    "explanation_prompt = ChatPromptTemplate.from_template(\n",
    "    \"\"\"\n",
    "당신은 문학 비평가입니다. 주어진 시에 대해 전문적이고 깊이 있는 설명을 해주세요.\n",
    "\n",
    "프로그래밍 언어: {language}\n",
    "시: {poetry}\n",
    "\n",
    "요구사항:\n",
    "- 시의 주제와 메시지 분석\n",
    "- 사용된 문학적 기법 설명\n",
    "- 프로그래밍 언어와의 연관성 해석\n",
    "- 시의 감정적 효과 설명\n",
    "- 3-4문장으로 간결하게 작성\n",
    "- 한국어로 작성\n",
    "\n",
    "Return:\n",
    "\n",
    "시 설명:\n",
    "\n",
    "\"\"\"\n",
    ")\n",
    "\n",
    "\n",
    "# 체인 구성 (LCEL 사용)\n",
    "explanation_chain = explanation_prompt | model"
   ]
  },
  {
   "cell_type": "code",
   "execution_count": 9,
   "id": "1962991d",
   "metadata": {},
   "outputs": [],
   "source": [
    "# 3. LCEL을 사용해 두 체인을 연결하는 최종 체인\n",
    "combined_chain = {\"poetry\": poetry_chain, \"language\": RunnablePassthrough()} | explanation_chain"
   ]
  },
  {
   "cell_type": "code",
   "execution_count": 10,
   "id": "93a2834f",
   "metadata": {},
   "outputs": [
    {
     "name": "stdout",
     "output_type": "stream",
     "text": [
      "시:\n",
      "Python\n",
      "파이썬은 맑은 호수처럼 읽히는 마음의 언어다.\n",
      "들여쓰기의 계단은 생각의 길을 밝히고, 공백은 숨을 준다.\n",
      "읽기 쉬운 문법은 아이디어를 다리처럼 이어 주며, 복잡함을 덜어낸다.\n",
      "동적 타이핑은 꿈을 자유롭게 흘려보내되, 의도는 선명하게 남는다.\n",
      "아름다움이 추함보다 낫고, 간결함은 힘이 된다— 파이썬의 속삭임。\n",
      "\n",
      "\n",
      "시 설명:\n",
      "이 시는 파이썬의 문법을 마음의 언어로 비유하는 은유와 의인화를 통해 주제와 메시지를 제시한다. 들여쓰기의 계단과 공백은 사고의 흐름과 호흡을 구조화하는 이미지로, 간결함이 생각의 길을 밝힌다고 말한다. 동적 타이핑은 자유로운 꿈의 흐름을 허용하되 의도는 선명하다는 구도에서 기술 자유와 명확성의 균형을 강조한다. 전반적으로 파이썬의 속삭임은 아름다움과 간결함의 미학을 통해 감정적 여운을 남기며, 기술과 인간성 사이의 다리를 건너려는 마음을 자극한다."
     ]
    }
   ],
   "source": [
    "# 4. 체인 테스트\n",
    "\n",
    "explanation = combined_chain.invoke(\"Python\")"
   ]
  }
 ],
 "metadata": {
  "kernelspec": {
   "display_name": ".venv",
   "language": "python",
   "name": "python3"
  },
  "language_info": {
   "codemirror_mode": {
    "name": "ipython",
    "version": 3
   },
   "file_extension": ".py",
   "mimetype": "text/x-python",
   "name": "python",
   "nbconvert_exporter": "python",
   "pygments_lexer": "ipython3",
   "version": "3.11.12"
  }
 },
 "nbformat": 4,
 "nbformat_minor": 5
}
