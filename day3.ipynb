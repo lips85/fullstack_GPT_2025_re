{
 "cells": [
  {
   "cell_type": "markdown",
   "id": "5a6e8bce",
   "metadata": {},
   "source": [
    "앞서 배운 메모리 클래스 중 하나를 사용하는 메모리로 LCEL 체인을 구현합니다.\n",
    "\n",
    "이 체인은 영화 제목을 가져와 영화를 나타내는 세 개의 이모티콘으로 응답해야 합니다. (예: \"탑건\" -> \"🛩️👨‍✈️🔥\". \"대부\" -> \"👨‍👨‍👦🔫🍝\").\n",
    "\n",
    "항상 세 개의 이모티콘으로 답장하도록 FewShotPromptTemplate 또는 FewShotChatMessagePromptTemplate을 사용하여 체인에 예시를 제공하세요.\n",
    "\n",
    "메모리가 작동하는지 확인하려면 체인에 두 개의 영화에 대해 질문한 다음 다른 셀에서 체인에 먼저 질문한 영화가 무엇인지 알려달라고 요청하세요.\n"
   ]
  },
  {
   "cell_type": "code",
   "execution_count": 1,
   "id": "41b867a5",
   "metadata": {},
   "outputs": [
    {
     "name": "stdout",
     "output_type": "stream",
     "text": [
      "✅ 라이브러리 import 완료!\n"
     ]
    }
   ],
   "source": [
    "# 필요한 라이브러리 import\n",
    "import os\n",
    "from langchain_openai import ChatOpenAI\n",
    "from langchain_core.prompts import (\n",
    "    FewShotChatMessagePromptTemplate,\n",
    "    ChatPromptTemplate,\n",
    "    MessagesPlaceholder,\n",
    ")\n",
    "from langchain_core.output_parsers import StrOutputParser\n",
    "from langchain_core.callbacks import StreamingStdOutCallbackHandler\n",
    "from langchain_core.runnables import RunnablePassthrough\n",
    "from langchain_core.messages import HumanMessage, AIMessage\n",
    "from langchain_community.chat_message_histories import ChatMessageHistory\n",
    "\n",
    "print(\"✅ 라이브러리 import 완료!\")"
   ]
  },
  {
   "cell_type": "code",
   "execution_count": 2,
   "id": "d92ed1d1",
   "metadata": {},
   "outputs": [
    {
     "name": "stdout",
     "output_type": "stream",
     "text": [
      "✅ FewShotChatMessagePromptTemplate과 MessagesPlaceholder 구성 완료!\n"
     ]
    }
   ],
   "source": [
    "# 영화 이모티콘 예시 데이터 준비\n",
    "examples = [\n",
    "    {\"input\": \"탑건\", \"output\": \"🛩️👨‍✈️🔥\"},\n",
    "    {\"input\": \"대부\", \"output\": \"👨‍👨‍👦🔫🍝\"},\n",
    "    {\"input\": \"타이타닉\", \"output\": \"🚢💔🌊\"},\n",
    "    {\"input\": \"어벤져스\", \"output\": \"🦸‍♂️💥⚡\"},\n",
    "]\n",
    "\n",
    "# FewShotChatMessagePromptTemplate 구성\n",
    "example_prompt = ChatPromptTemplate.from_messages([(\"human\", \"{input}\"), (\"ai\", \"{output}\")])\n",
    "\n",
    "few_shot_prompt = FewShotChatMessagePromptTemplate(example_prompt=example_prompt, examples=examples)\n",
    "\n",
    "# MessagesPlaceholder를 사용한 최종 프롬프트 템플릿\n",
    "final_prompt = ChatPromptTemplate.from_messages(\n",
    "    [\n",
    "        (\n",
    "            \"system\",\n",
    "            \"당신은 영화를 세 개의 이모티콘으로 표현하는 전문가입니다. 주어진 영화 제목에 대해 영화의 핵심 요소를 나타내는 세 개의 이모티콘만 답변하세요.\",\n",
    "        ),\n",
    "        few_shot_prompt,\n",
    "        MessagesPlaceholder(variable_name=\"chat_history\"),\n",
    "        (\"human\", \"{input}\"),\n",
    "    ]\n",
    ")\n",
    "\n",
    "print(\"✅ FewShotChatMessagePromptTemplate과 MessagesPlaceholder 구성 완료!\")"
   ]
  },
  {
   "cell_type": "code",
   "execution_count": 3,
   "id": "03c89a9a",
   "metadata": {},
   "outputs": [
    {
     "name": "stdout",
     "output_type": "stream",
     "text": [
      "✅ ChatMessageHistory를 활용한 메모리 체인 구성 완료!\n"
     ]
    }
   ],
   "source": [
    "# ChatMessageHistory를 사용한 메모리 설정\n",
    "chat_history = ChatMessageHistory()\n",
    "model = ChatOpenAI(model=\"gpt-3.5-turbo\", temperature=0.1)\n",
    "output_parser = StrOutputParser()\n",
    "\n",
    "\n",
    "# ChatMessageHistory를 활용한 메모리 체인 구성\n",
    "def load_memory(inputs):\n",
    "    \"\"\"ChatMessageHistory에서 이전 대화를 로드합니다.\"\"\"\n",
    "    return {\"input\": inputs[\"input\"], \"chat_history\": chat_history.messages}\n",
    "\n",
    "\n",
    "def save_memory(inputs, outputs):\n",
    "    \"\"\"대화를 ChatMessageHistory에 저장합니다.\"\"\"\n",
    "    chat_history.add_user_message(inputs[\"input\"])\n",
    "    chat_history.add_ai_message(outputs)\n",
    "    return outputs\n",
    "\n",
    "\n",
    "# RunnablePassthrough를 사용한 LCEL 체인 (올바른 방식)\n",
    "movie_emoji_chain = (\n",
    "    RunnablePassthrough.assign(chat_history=lambda x: chat_history.messages)\n",
    "    | final_prompt\n",
    "    | model\n",
    "    | output_parser\n",
    ")\n",
    "\n",
    "print(\"✅ ChatMessageHistory를 활용한 메모리 체인 구성 완료!\")"
   ]
  },
  {
   "cell_type": "code",
   "execution_count": 4,
   "id": "a57b6b86",
   "metadata": {},
   "outputs": [
    {
     "name": "stdout",
     "output_type": "stream",
     "text": [
      "🎬 첫 번째 영화 테스트\n",
      "==============================\n",
      "영화: 인터스텔라\n",
      "이모티콘: 🚀⏳🌌\n",
      "✅ 메모리에 저장됨\n"
     ]
    }
   ],
   "source": [
    "# 첫 번째 영화 테스트\n",
    "print(\"🎬 첫 번째 영화 테스트\")\n",
    "print(\"=\" * 30)\n",
    "\n",
    "movie1 = \"인터스텔라\"\n",
    "print(f\"영화: {movie1}\")\n",
    "\n",
    "result1 = movie_emoji_chain.invoke({\"input\": movie1})\n",
    "print(f\"이모티콘: {result1}\")\n",
    "\n",
    "# 메모리에 저장\n",
    "save_memory({\"input\": movie1}, result1)\n",
    "print(\"✅ 메모리에 저장됨\")"
   ]
  },
  {
   "cell_type": "code",
   "execution_count": 5,
   "id": "c64286d4",
   "metadata": {},
   "outputs": [
    {
     "name": "stdout",
     "output_type": "stream",
     "text": [
      "🎬 두 번째 영화 테스트\n",
      "==============================\n",
      "영화: 겨울왕국\n",
      "이모티콘: ❄️👸⛄\n",
      "✅ 메모리에 저장됨\n"
     ]
    }
   ],
   "source": [
    "# 두 번째 영화 테스트\n",
    "print(\"🎬 두 번째 영화 테스트\")\n",
    "print(\"=\" * 30)\n",
    "\n",
    "movie2 = \"겨울왕국\"\n",
    "print(f\"영화: {movie2}\")\n",
    "\n",
    "result2 = movie_emoji_chain.invoke({\"input\": movie2})\n",
    "print(f\"이모티콘: {result2}\")\n",
    "\n",
    "# 메모리에 저장\n",
    "save_memory({\"input\": movie2}, result2)\n",
    "print(\"✅ 메모리에 저장됨\")"
   ]
  },
  {
   "cell_type": "code",
   "execution_count": 6,
   "id": "e5c8a509",
   "metadata": {},
   "outputs": [
    {
     "name": "stdout",
     "output_type": "stream",
     "text": [
      "🧠 ChatMessageHistory 테스트\n",
      "==============================\n",
      "📝 ChatMessageHistory에 저장된 대화:\n",
      "1. 인터스텔라\n",
      "2. 🚀⏳🌌\n",
      "3. 겨울왕국\n",
      "4. ❄️👸⛄\n",
      "\n",
      "💭 총 4개의 메시지가 ChatMessageHistory에 저장되어 있습니다.\n"
     ]
    }
   ],
   "source": [
    "# ChatMessageHistory 테스트 - 이전에 질문한 영화 확인\n",
    "print(\"🧠 ChatMessageHistory 테스트\")\n",
    "print(\"=\" * 30)\n",
    "\n",
    "# ChatMessageHistory 내용 확인\n",
    "print(\"📝 ChatMessageHistory에 저장된 대화:\")\n",
    "for i, message in enumerate(chat_history.messages, 1):\n",
    "    if hasattr(message, 'content'):\n",
    "        print(f\"{i}. {message.content}\")\n",
    "    else:\n",
    "        print(f\"{i}. {message}\")\n",
    "\n",
    "print(f\"\\n💭 총 {len(chat_history.messages)}개의 메시지가 ChatMessageHistory에 저장되어 있습니다.\")"
   ]
  },
  {
   "cell_type": "code",
   "execution_count": 7,
   "id": "5a0c78ec",
   "metadata": {},
   "outputs": [
    {
     "name": "stdout",
     "output_type": "stream",
     "text": [
      "🔍 ChatMessageHistory 기능 테스트\n",
      "==============================\n",
      "질문: 이전에 질문한 영화가 무엇인지 알려주세요\n",
      "답변: 이전에 질문한 영화는 '인터스텔라'입니다.\n",
      "\n",
      "✅ ChatMessageHistory가 정상적으로 작동하는지 확인되었습니다!\n"
     ]
    }
   ],
   "source": [
    "# ChatMessageHistory 기능 테스트 - 이전 질문 기억하기\n",
    "print(\"🔍 ChatMessageHistory 기능 테스트\")\n",
    "print(\"=\" * 30)\n",
    "\n",
    "# 이전에 질문한 영화가 무엇인지 물어보기\n",
    "question = \"이전에 질문한 영화가 무엇인지 알려주세요\"\n",
    "print(f\"질문: {question}\")\n",
    "\n",
    "# ChatMessageHistory를 사용한 체인으로 답변\n",
    "memory_test_result = movie_emoji_chain.invoke({\"input\": question})\n",
    "print(f\"답변: {memory_test_result}\")\n",
    "\n",
    "# 이 질문도 ChatMessageHistory에 저장\n",
    "save_memory({\"input\": question}, memory_test_result)\n",
    "\n",
    "print(\"\\n✅ ChatMessageHistory가 정상적으로 작동하는지 확인되었습니다!\")"
   ]
  }
 ],
 "metadata": {
  "kernelspec": {
   "display_name": ".venv",
   "language": "python",
   "name": "python3"
  },
  "language_info": {
   "codemirror_mode": {
    "name": "ipython",
    "version": 3
   },
   "file_extension": ".py",
   "mimetype": "text/x-python",
   "name": "python",
   "nbconvert_exporter": "python",
   "pygments_lexer": "ipython3",
   "version": "3.11.12"
  }
 },
 "nbformat": 4,
 "nbformat_minor": 5
}
